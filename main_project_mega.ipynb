{
  "cells": [
    {
      "cell_type": "markdown",
      "metadata": {
        "id": "U_BCJHeH-_zy"
      },
      "source": [
        "Installing necessary prereqs: [NetworkX](https://networkx.org/documentation/stable/reference/index.html) for graphing, [PuLP](https://coin-or.github.io/pulp/main/index.html) for linear programming."
      ]
    },
    {
      "cell_type": "code",
      "execution_count": 22,
      "metadata": {
        "colab": {
          "base_uri": "https://localhost:8080/"
        },
        "id": "2WEXY24R-_zz",
        "outputId": "9d41cc57-c68e-4d0b-ff41-099f6516dfd4"
      },
      "outputs": [
        {
          "name": "stdout",
          "output_type": "stream",
          "text": [
            "Requirement already satisfied: networkx in /Library/Frameworks/Python.framework/Versions/3.11/lib/python3.11/site-packages (3.0)\n",
            "Requirement already satisfied: pulp in /Library/Frameworks/Python.framework/Versions/3.11/lib/python3.11/site-packages (2.8.0)\n",
            "Note: you may need to restart the kernel to use updated packages.\n"
          ]
        }
      ],
      "source": [
        "%pip install networkx pulp"
      ]
    },
    {
      "cell_type": "code",
      "execution_count": 40,
      "metadata": {
        "id": "Yl4TyeT6-_z0"
      },
      "outputs": [],
      "source": [
        "\n",
        "import json\n",
        "import networkx as nx\n",
        "\n",
        "fileName = \"map_ia_d2p_weights\"\n",
        "\n",
        "file = open(\"map_data/\" + fileName + \".json\")\n",
        "data = json.load(file)\n",
        "\n",
        "# adjacencies = data[\"adj\"]\n",
        "# # TODO: Shits the bed if there's anything other than letters and _\n",
        "# countyNames = data[\"GEOID\"]\n",
        "# pop = data[\"pop\"]\n",
        "\n",
        "adjacencies = []\n",
        "countyNames = []\n",
        "pop = []\n",
        "weights = []\n",
        "for countyInfo in data:\n",
        "    countyNames.append(countyInfo[\"GEOID\"])\n",
        "    adjacencies.append(countyInfo[\"adj\"])\n",
        "    pop.append(countyInfo[\"pop\"])\n",
        "    weights.append(countyInfo[\"weights\"])\n",
        "\n",
        "\n",
        "# Number of districts\n",
        "NUM_DISTRICTS = 2\n",
        "\n",
        "# Population Tolerance\n",
        "ALPHA = .05"
      ]
    },
    {
      "cell_type": "code",
      "execution_count": 41,
      "metadata": {
        "id": "TuOI4qxy-_z0"
      },
      "outputs": [],
      "source": [
        "from random import Random\n",
        "\n",
        "stateGraph = nx.Graph()\n",
        "\n",
        "r =  Random(51535162)\n",
        "totalPop = 0\n",
        "# Add the nodes as necessary\n",
        "\n",
        "for i in range(len(adjacencies)):\n",
        "    # Adds node for each set of adjacencies\n",
        "    totalPop += pop[i]\n",
        "    # Adds necessary edges; double-adding doesn't matter\n",
        "    # try:\n",
        "    for j in range(len(adjacencies[i])):\n",
        "        # print(i,j)\n",
        "        stateGraph.add_edge(countyNames[i], countyNames[adjacencies[i][j]], weight=float(weights[i][j]))\n",
        "    # except:\n",
        "    #         print(i)\n",
        "    #         stateGraph.add_edge(countyNames[i], countyNames[adjacencies[i]], weight=weights[i])\n",
        "\n",
        "# Population per district\n",
        "targetPop = totalPop / NUM_DISTRICTS\n",
        "\n",
        "nx.draw(stateGraph)"
      ]
    },
    {
      "cell_type": "code",
      "execution_count": 38,
      "metadata": {
        "id": "j7fgSFrRq9A1"
      },
      "outputs": [],
      "source": [
        "M = 100000"
      ]
    },
    {
      "cell_type": "code",
      "execution_count": 39,
      "metadata": {
        "colab": {
          "base_uri": "https://localhost:8080/",
          "height": 332
        },
        "id": "d166yuEG-_z0",
        "outputId": "10b35f0b-9304-4149-9b51-a36264128001"
      },
      "outputs": [
        {
          "ename": "ValueError",
          "evalue": "Number of districts in plan does not match number of districts.",
          "output_type": "error",
          "traceback": [
            "\u001b[0;31m---------------------------------------------------------------------------\u001b[0m",
            "\u001b[0;31mValueError\u001b[0m                                Traceback (most recent call last)",
            "Cell \u001b[0;32mIn[39], line 143\u001b[0m\n\u001b[1;32m    141\u001b[0m     totalCountiesinDistricts \u001b[38;5;241m+\u001b[39m\u001b[38;5;241m=\u001b[39m \u001b[38;5;28mlen\u001b[39m(d)\n\u001b[1;32m    142\u001b[0m \u001b[38;5;28;01mif\u001b[39;00m(totalCountiesinDistricts \u001b[38;5;241m!=\u001b[39m \u001b[38;5;28mlen\u001b[39m(countyNames)):\n\u001b[0;32m--> 143\u001b[0m     \u001b[38;5;28;01mraise\u001b[39;00m(\u001b[38;5;167;01mValueError\u001b[39;00m(\u001b[38;5;124m\"\u001b[39m\u001b[38;5;124mNumber of districts in plan does not match number of districts.\u001b[39m\u001b[38;5;124m\"\u001b[39m))\n\u001b[1;32m    145\u001b[0m \u001b[38;5;66;03m# Save the captured output to a text file\u001b[39;00m\n\u001b[1;32m    146\u001b[0m \u001b[38;5;28;01mwith\u001b[39;00m \u001b[38;5;28mopen\u001b[39m(\u001b[38;5;124m'\u001b[39m\u001b[38;5;124mmega/txt_outputs/\u001b[39m\u001b[38;5;124m'\u001b[39m \u001b[38;5;241m+\u001b[39m fileName \u001b[38;5;241m+\u001b[39m \u001b[38;5;124m'\u001b[39m\u001b[38;5;124m.txt\u001b[39m\u001b[38;5;124m'\u001b[39m, \u001b[38;5;124m'\u001b[39m\u001b[38;5;124ma+\u001b[39m\u001b[38;5;124m'\u001b[39m) \u001b[38;5;28;01mas\u001b[39;00m file:\n",
            "\u001b[0;31mValueError\u001b[0m: Number of districts in plan does not match number of districts."
          ]
        },
        {
          "name": "stdout",
          "output_type": "stream",
          "text": [
            "Welcome to the CBC MILP Solver \n",
            "Version: 2.10.3 \n",
            "Build Date: Dec 15 2019 \n",
            "\n",
            "command line - /Library/Frameworks/Python.framework/Versions/3.11/lib/python3.11/site-packages/pulp/solverdir/cbc/osx/64/cbc /var/folders/z3/3qb7cv41693fmz3b6hbntjkr0000gn/T/899f9feae17b40f3a4ce2f50feb6f64b-pulp.mps -threads 12 -timeMode elapsed -branch -printingOptions all -solution /var/folders/z3/3qb7cv41693fmz3b6hbntjkr0000gn/T/899f9feae17b40f3a4ce2f50feb6f64b-pulp.sol (default strategy 1)\n",
            "At line 2 NAME          MODEL\n",
            "At line 3 ROWS\n",
            "At line 9 COLUMNS\n",
            "At line 11 RHS\n",
            "At line 16 BOUNDS\n",
            "At line 18 ENDATA\n",
            "Problem MODEL has 4 rows, 1 columns and 0 elements\n",
            "Coin0008I MODEL read with 0 errors\n",
            "threads was changed from 0 to 12\n",
            "Option for timeMode changed from cpu to elapsed\n",
            "Empty problem - 4 rows, 1 columns and 0 elements\n",
            "Empty problem - 4 rows, 1 columns and 0 elements\n",
            "Primal infeasible - objective value 0\n",
            "PrimalInfeasible objective 0 - 0 iterations time 0.002\n",
            "\n",
            "Result - Linear relaxation infeasible\n",
            "\n",
            "Enumerated nodes:           0\n",
            "Total iterations:           0\n",
            "Time (CPU seconds):         0.00\n",
            "Time (Wallclock Seconds):   0.00\n",
            "\n",
            "Option for printingOptions changed from normal to all\n",
            "Total time (CPU seconds):       0.00   (Wallclock seconds):       0.00\n",
            "\n"
          ]
        }
      ],
      "source": [
        "%%capture cap\n",
        "\n",
        "import pulp\n",
        "\n",
        "def CutPartition(remainingGraph):\n",
        "    prog = pulp.LpProblem(\"CutPartition\", pulp.LpMinimize)\n",
        "\n",
        "    # Defining Partition Binary\n",
        "    xVars = []\n",
        "    xVarMap = {}\n",
        "    for n in remainingGraph.nodes:\n",
        "        var = pulp.LpVariable(\"x\" + str(n), cat=pulp.LpInteger)\n",
        "        xVarMap[n] = var\n",
        "        xVars.append(var)\n",
        "        prog += var\n",
        "    # Defining crossing binary\n",
        "    edgeVars = []\n",
        "    weights = []\n",
        "    for n, m in remainingGraph.edges:\n",
        "        # edgeVal = pulp.LpAffineExpression([(xVarMap[n], 1), (xVarMap[m], -1)])\n",
        "        absEdgeVal = pulp.LpVariable('y' + str(n) + str(m), cat=pulp.LpBinary)\n",
        "\n",
        "        # Ensures that y is either 1 or 0. 1 if n!=m (crossing), otherwise 0.\n",
        "        prog += absEdgeVal <= 1 - (xVarMap[n] == xVarMap[m])\n",
        "        prog += absEdgeVal >= 1 - (xVarMap[n] == xVarMap[m])\n",
        "\n",
        "        edgeVars.append(absEdgeVal)\n",
        "        weights.append(remainingGraph[n][m]['weight'])\n",
        "\n",
        "    # Defining Partition Classification\n",
        "    zVars = []\n",
        "    zVarMap = {}\n",
        "    for n in remainingGraph.nodes:\n",
        "      zVarMap[n] = {}\n",
        "      for d in range(NUM_DISTRICTS):\n",
        "        var = pulp.LpVariable(\"z\" + str(n) + str(d), cat=pulp.LpBinary)\n",
        "        zVarMap[n][d] = var\n",
        "        zVars.append(var)\n",
        "        prog += var\n",
        "\n",
        "    # Indices and Partition Relationship\n",
        "    for n in remainingGraph.nodes:\n",
        "      for d in range(NUM_DISTRICTS):\n",
        "        # Ensure Z = 1 when X == K\n",
        "        # Ensure Z = 0 when X != K\n",
        "        prog += zVarMap[n][d] <= pulp.lpSum([1 if xVarMap[n].value() == d else 0])\n",
        "        prog += zVarMap[n][d] >= pulp.lpSum([1 if xVarMap[n].value() == d else 0])\n",
        "\n",
        "    # Partition Exclusivity\n",
        "    for n in remainingGraph.nodes:\n",
        "      distVariables = []\n",
        "      for d in range(NUM_DISTRICTS):\n",
        "        distVariables.append(zVarMap[n][d])\n",
        "      #for each nodes' district variables, they need to add to max 1\n",
        "      prog += pulp.lpSum(zVarMap[n]) >= 1\n",
        "      prog += pulp.lpSum(zVarMap[n]) <= 1\n",
        "\n",
        "    # Each Partition Subset sum\n",
        "    for d in range(NUM_DISTRICTS):\n",
        "      popVariables = []\n",
        "      idx = 0\n",
        "      for i in remainingGraph.nodes:\n",
        "          popVariables.append(pulp.LpAffineExpression(zVarMap[i][d] * pop[idx]))\n",
        "          idx += 1\n",
        "      # Max Pop\n",
        "      prog += pulp.lpSum(popVariables) <= targetPop * (1 + ALPHA)\n",
        "      # Min Pop\n",
        "      prog += pulp.lpSum(popVariables) >= targetPop * (1 - ALPHA)\n",
        "\n",
        "    # Each Partition Connected\n",
        "    for d in range(NUM_DISTRICTS):\n",
        "      for i in remainingGraph.nodes:\n",
        "          sumParts = []\n",
        "          jidx = 0\n",
        "          for j in remainingGraph.nodes:\n",
        "              if i == jidx: break\n",
        "              if remainingGraph.has_edge(i, jidx):\n",
        "                  sumParts.append(remainingGraph[i][jidx]['weight'] * zVarMap[j][d])\n",
        "              jidx += 1\n",
        "          totalLH = pulp.LpAffineExpression(zVarMap[j][d] * pulp.lpSum(sumParts))\n",
        "          prog += pulp.LpConstraint(totalLH, pulp.LpConstraintGE, 1 - zVarMap[i][d])\n",
        "\n",
        "    # Define Minimization Target\n",
        "    # Edgeweights\n",
        "    edgeWeightVars = []\n",
        "    for i in range(len(edgeVars)):\n",
        "        edgeWeightVars.append(pulp.LpAffineExpression(edgeVars[i] * weights[i]))\n",
        "    prog += pulp.LpAffineExpression(pulp.lpSum(edgeWeightVars), name=\"Z\")\n",
        "\n",
        "    print(\"Sending to solver...\")\n",
        "    print(prog)\n",
        "    Solver_name = 'PULP_CBC_CMD'\n",
        "    solver = pulp.getSolver(Solver_name, threads=12)\n",
        "    soln = prog.solve(solver)\n",
        "\n",
        "    print(soln)\n",
        "\n",
        "    toReturn = {}\n",
        "\n",
        "    districtPop = 0\n",
        "    print(xVars)\n",
        "    for i in range(len(xVars)):\n",
        "        if(xVars[i].value() == 1):\n",
        "            districtPop += pop[i]\n",
        "            toReturn[xVars[i].name] = xVars[i].value()\n",
        "            print(xVars[i].name, xVars[i].value())\n",
        "    if(districtPop >= targetPop * (1 + ALPHA) or districtPop <= targetPop * (1-ALPHA)):\n",
        "        print(prog)\n",
        "        # raise ValueError(\"District Generated not of Proper Population\")\n",
        "    return toReturn\n",
        "\n",
        "\n",
        "remainingGraph = stateGraph.copy()\n",
        "districts = []\n",
        "while len(districts) < NUM_DISTRICTS - 1:\n",
        "    cutResult = CutPartition(remainingGraph)\n",
        "    newDistrict = []\n",
        "    for d in cutResult.keys():\n",
        "        # Gets rid of the x\n",
        "        # print(d)\n",
        "        newDistrict.append(d[1:])\n",
        "    # Appends the new district to our list of districts\n",
        "    districts.append(newDistrict)\n",
        "    oldSize = remainingGraph.order()\n",
        "    # Removes those nodes from the district\n",
        "    remainingGraph.remove_nodes_from(newDistrict)\n",
        "    newSize = remainingGraph.order()\n",
        "    # Verify that all of the nodes were removed\n",
        "    if(newSize != oldSize - len(newDistrict)):\n",
        "        print(remainingGraph.nodes)\n",
        "        print(newDistrict)\n",
        "        raise(ValueError(\"Districts were not removed appropriately\"))\n",
        "    # print(newDistrict)\n",
        "newDistrict = []\n",
        "for d in remainingGraph.nodes:\n",
        "    # Gets rid of the x\n",
        "    newDistrict.append(d)\n",
        "districts.append(newDistrict)\n",
        "\n",
        "#Confirm total size is appropriate\n",
        "totalCountiesinDistricts = 0\n",
        "for d in districts:\n",
        "    totalCountiesinDistricts += len(d)\n",
        "if(totalCountiesinDistricts != len(countyNames)):\n",
        "    raise(ValueError(\"Number of districts in plan does not match number of districts.\"))\n",
        "\n",
        "# Save the captured output to a text file\n",
        "with open('mega/txt_outputs/' + fileName + '.txt', 'a+') as file:\n",
        "    file.write(cap.stdout)"
      ]
    },
    {
      "cell_type": "code",
      "execution_count": null,
      "metadata": {
        "id": "c5z9w0Gd-_z0"
      },
      "outputs": [],
      "source": [
        "import csv\n",
        "\n",
        "file = open(\"mega/district_outputs/\" + fileName + '.csv', 'w')\n",
        "w = csv.writer(file)\n",
        "w.writerow([\"district\", \"precinct\"])\n",
        "for i in range(len(districts)):\n",
        "    for j in range(len(districts[i])):\n",
        "        w.writerow([i + 1, districts[i][j]])\n",
        "file.close()"
      ]
    },
    {
      "cell_type": "code",
      "execution_count": null,
      "metadata": {
        "id": "1XqMh_12-_z0"
      },
      "outputs": [],
      "source": []
    }
  ],
  "metadata": {
    "colab": {
      "provenance": []
    },
    "kernelspec": {
      "display_name": "Python 3",
      "language": "python",
      "name": "python3"
    },
    "language_info": {
      "codemirror_mode": {
        "name": "ipython",
        "version": 3
      },
      "file_extension": ".py",
      "mimetype": "text/x-python",
      "name": "python",
      "nbconvert_exporter": "python",
      "pygments_lexer": "ipython3",
      "version": "3.11.1"
    }
  },
  "nbformat": 4,
  "nbformat_minor": 0
}
