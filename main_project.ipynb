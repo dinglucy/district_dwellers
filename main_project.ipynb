{
  "cells": [
    {
      "cell_type": "markdown",
      "metadata": {
        "id": "U_BCJHeH-_zy"
      },
      "source": [
        "Installing necessary prereqs: [NetworkX](https://networkx.org/documentation/stable/reference/index.html) for graphing, [PuLP](https://coin-or.github.io/pulp/main/index.html) for linear programming."
      ]
    },
    {
      "cell_type": "code",
      "execution_count": 2,
      "metadata": {
        "colab": {
          "base_uri": "https://localhost:8080/"
        },
        "id": "2WEXY24R-_zz",
        "outputId": "9d41cc57-c68e-4d0b-ff41-099f6516dfd4"
      },
      "outputs": [
        {
          "output_type": "stream",
          "name": "stdout",
          "text": [
            "Requirement already satisfied: networkx in /usr/local/lib/python3.10/dist-packages (3.3)\n",
            "Requirement already satisfied: pulp in /usr/local/lib/python3.10/dist-packages (2.8.0)\n"
          ]
        }
      ],
      "source": [
        "%pip install networkx pulp"
      ]
    },
    {
      "cell_type": "code",
      "execution_count": 22,
      "metadata": {
        "id": "Yl4TyeT6-_z0"
      },
      "outputs": [],
      "source": [
        "\n",
        "import json\n",
        "import networkx as nx\n",
        "\n",
        "fileName = \"map_ct_nw_weights\"\n",
        "\n",
        "file = open(\"map_data/\" + fileName + \".json\")\n",
        "data = json.load(file)\n",
        "\n",
        "# adjacencies = data[\"adj\"]\n",
        "# # TODO: Shits the bed if there's anything other than letters and _\n",
        "# countyNames = data[\"GEOID\"]\n",
        "# pop = data[\"pop\"]\n",
        "\n",
        "adjacencies = []\n",
        "countyNames = []\n",
        "pop = []\n",
        "weights = []\n",
        "for countyInfo in data:\n",
        "    countyNames.append(countyInfo[\"GEOID\"])\n",
        "    adjacencies.append(countyInfo[\"adj\"])\n",
        "    pop.append(countyInfo[\"pop\"])\n",
        "    weights.append(countyInfo[\"weights\"])\n",
        "\n",
        "\n",
        "# Number of districts\n",
        "NUM_DISTRICTS = 5\n",
        "\n",
        "# Population Tolerance\n",
        "ALPHA = .05"
      ]
    },
    {
      "cell_type": "code",
      "execution_count": 23,
      "metadata": {
        "id": "TuOI4qxy-_z0"
      },
      "outputs": [],
      "source": [
        "from random import Random\n",
        "\n",
        "stateGraph = nx.Graph()\n",
        "\n",
        "r =  Random(51535162)\n",
        "totalPop = 0\n",
        "# Add the nodes as necessary\n",
        "\n",
        "for i in range(len(adjacencies)):\n",
        "    # Adds node for each set of adjacencies\n",
        "    totalPop += pop[i]\n",
        "    # Adds necessary edges; double-adding doesn't matter\n",
        "    # try:\n",
        "    for j in range(len(adjacencies[i])):\n",
        "        # print(i,j)\n",
        "        stateGraph.add_edge(countyNames[i], countyNames[adjacencies[i][j]], weight=float(weights[i][j]))\n",
        "    # except:\n",
        "    #         print(i)\n",
        "    #         stateGraph.add_edge(countyNames[i], countyNames[adjacencies[i]], weight=weights[i])\n",
        "\n",
        "# Population per district\n",
        "targetPop = totalPop / NUM_DISTRICTS\n",
        "\n",
        "# nx.draw(stateGraph)"
      ]
    },
    {
      "cell_type": "code",
      "execution_count": 26,
      "metadata": {
        "colab": {
          "base_uri": "https://localhost:8080/",
          "height": 332
        },
        "id": "d166yuEG-_z0",
        "outputId": "10b35f0b-9304-4149-9b51-a36264128001"
      },
      "outputs": [
        {
          "output_type": "error",
          "ename": "ValueError",
          "evalue": "District Generated not of Proper Population",
          "traceback": [
            "\u001b[0;31m---------------------------------------------------------------------------\u001b[0m",
            "\u001b[0;31mValueError\u001b[0m                                Traceback (most recent call last)",
            "\u001b[0;32m<ipython-input-26-ba8e64692012>\u001b[0m in \u001b[0;36m<cell line: 105>\u001b[0;34m()\u001b[0m\n\u001b[1;32m    104\u001b[0m \u001b[0mdistricts\u001b[0m \u001b[0;34m=\u001b[0m \u001b[0;34m[\u001b[0m\u001b[0;34m]\u001b[0m\u001b[0;34m\u001b[0m\u001b[0;34m\u001b[0m\u001b[0m\n\u001b[1;32m    105\u001b[0m \u001b[0;32mwhile\u001b[0m \u001b[0mlen\u001b[0m\u001b[0;34m(\u001b[0m\u001b[0mdistricts\u001b[0m\u001b[0;34m)\u001b[0m \u001b[0;34m<\u001b[0m \u001b[0mNUM_DISTRICTS\u001b[0m \u001b[0;34m-\u001b[0m \u001b[0;36m1\u001b[0m\u001b[0;34m:\u001b[0m\u001b[0;34m\u001b[0m\u001b[0;34m\u001b[0m\u001b[0m\n\u001b[0;32m--> 106\u001b[0;31m     \u001b[0mcutResult\u001b[0m \u001b[0;34m=\u001b[0m \u001b[0mCutPartition\u001b[0m\u001b[0;34m(\u001b[0m\u001b[0mremainingGraph\u001b[0m\u001b[0;34m)\u001b[0m\u001b[0;34m\u001b[0m\u001b[0;34m\u001b[0m\u001b[0m\n\u001b[0m\u001b[1;32m    107\u001b[0m     \u001b[0mnewDistrict\u001b[0m \u001b[0;34m=\u001b[0m \u001b[0;34m[\u001b[0m\u001b[0;34m]\u001b[0m\u001b[0;34m\u001b[0m\u001b[0;34m\u001b[0m\u001b[0m\n\u001b[1;32m    108\u001b[0m     \u001b[0;32mfor\u001b[0m \u001b[0md\u001b[0m \u001b[0;32min\u001b[0m \u001b[0mcutResult\u001b[0m\u001b[0;34m.\u001b[0m\u001b[0mkeys\u001b[0m\u001b[0;34m(\u001b[0m\u001b[0;34m)\u001b[0m\u001b[0;34m:\u001b[0m\u001b[0;34m\u001b[0m\u001b[0;34m\u001b[0m\u001b[0m\n",
            "\u001b[0;32m<ipython-input-26-ba8e64692012>\u001b[0m in \u001b[0;36mCutPartition\u001b[0;34m(remainingGraph)\u001b[0m\n\u001b[1;32m     97\u001b[0m             \u001b[0mprint\u001b[0m\u001b[0;34m(\u001b[0m\u001b[0mxVars\u001b[0m\u001b[0;34m[\u001b[0m\u001b[0mi\u001b[0m\u001b[0;34m]\u001b[0m\u001b[0;34m.\u001b[0m\u001b[0mname\u001b[0m\u001b[0;34m,\u001b[0m \u001b[0mxVars\u001b[0m\u001b[0;34m[\u001b[0m\u001b[0mi\u001b[0m\u001b[0;34m]\u001b[0m\u001b[0;34m.\u001b[0m\u001b[0mvalue\u001b[0m\u001b[0;34m(\u001b[0m\u001b[0;34m)\u001b[0m\u001b[0;34m)\u001b[0m\u001b[0;34m\u001b[0m\u001b[0;34m\u001b[0m\u001b[0m\n\u001b[1;32m     98\u001b[0m     \u001b[0;32mif\u001b[0m\u001b[0;34m(\u001b[0m\u001b[0mdistrictPop\u001b[0m \u001b[0;34m>=\u001b[0m \u001b[0mtargetPop\u001b[0m \u001b[0;34m*\u001b[0m \u001b[0;34m(\u001b[0m\u001b[0;36m1\u001b[0m \u001b[0;34m+\u001b[0m \u001b[0mALPHA\u001b[0m\u001b[0;34m)\u001b[0m \u001b[0;32mor\u001b[0m \u001b[0mdistrictPop\u001b[0m \u001b[0;34m<=\u001b[0m \u001b[0mtargetPop\u001b[0m \u001b[0;34m*\u001b[0m \u001b[0;34m(\u001b[0m\u001b[0;36m1\u001b[0m\u001b[0;34m-\u001b[0m\u001b[0mALPHA\u001b[0m\u001b[0;34m)\u001b[0m\u001b[0;34m)\u001b[0m\u001b[0;34m:\u001b[0m\u001b[0;34m\u001b[0m\u001b[0;34m\u001b[0m\u001b[0m\n\u001b[0;32m---> 99\u001b[0;31m         \u001b[0;32mraise\u001b[0m \u001b[0mValueError\u001b[0m\u001b[0;34m(\u001b[0m\u001b[0;34m\"District Generated not of Proper Population\"\u001b[0m\u001b[0;34m)\u001b[0m\u001b[0;34m\u001b[0m\u001b[0;34m\u001b[0m\u001b[0m\n\u001b[0m\u001b[1;32m    100\u001b[0m     \u001b[0;32mreturn\u001b[0m \u001b[0mtoReturn\u001b[0m\u001b[0;34m\u001b[0m\u001b[0;34m\u001b[0m\u001b[0m\n\u001b[1;32m    101\u001b[0m \u001b[0;34m\u001b[0m\u001b[0m\n",
            "\u001b[0;31mValueError\u001b[0m: District Generated not of Proper Population"
          ]
        }
      ],
      "source": [
        "%%capture cap\n",
        "\n",
        "import pulp\n",
        "\n",
        "def CutPartition(remainingGraph):\n",
        "    prog = pulp.LpProblem(\"CutPartition\", pulp.LpMinimize)\n",
        "\n",
        "    # Defining Partition Binary\n",
        "    xVars = []\n",
        "    xVarMap = {}\n",
        "    for n in remainingGraph.nodes:\n",
        "        var = pulp.LpVariable(\"x\" + str(n), cat=pulp.LpInteger)\n",
        "        xVarMap[n] = var\n",
        "        xVars.append(var)\n",
        "        prog += var\n",
        "    # Defining crossing binary\n",
        "    edgeVars = []\n",
        "    weights = []\n",
        "    for n, m in remainingGraph.edges:\n",
        "        # edgeVal = pulp.LpAffineExpression([(xVarMap[n], 1), (xVarMap[m], -1)])\n",
        "        absEdgeVal = pulp.LpVariable('y' + str(n) + str(m), cat=pulp.LpBinary)\n",
        "\n",
        "        # Ensures that y is either 1 or 0. 1 if n!=m (crossing), otherwise 0.\n",
        "        prog += absEdgeVal == 1 - (xVarMap[n] == xVarMap[m])\n",
        "\n",
        "        edgeVars.append(absEdgeVal)\n",
        "        weights.append(remainingGraph[n][m]['weight'])\n",
        "\n",
        "    # Defining Partition Classification\n",
        "    zVars = []\n",
        "    zVarMap = {}\n",
        "    for n in remainingGraph.nodes:\n",
        "      zVarMap[n] = {}\n",
        "      for d in range(NUM_DISTRICTS):\n",
        "        var = pulp.LpVariable(\"z\" + str(n) + str(d), cat=pulp.LpBinary)\n",
        "        zVarMap[n][d] = var\n",
        "        zVars.append(var)\n",
        "        prog += var\n",
        "\n",
        "    # Indices and Partition Relationship\n",
        "    for n in remainingGraph.nodes:\n",
        "      for d in range(NUM_DISTRICTS):\n",
        "        prog += zVarMap[n][d] == (xVarMap[n] == d)\n",
        "\n",
        "    # Partition Exclusivity\n",
        "    for n in remainingGraph.nodes:\n",
        "      distVariables = []\n",
        "      for d in range(NUM_DISTRICTS):\n",
        "        distVariables.append(zVarMap[n][d])\n",
        "      prog += pulp.lpSum(zVarMap[n]) == 1 #for each nodes' district variables, they need to add to max 1\n",
        "\n",
        "    # Each Partition Subset sum\n",
        "    for d in range(NUM_DISTRICTS):\n",
        "      popVariables = []\n",
        "      idx = 0\n",
        "      for i in remainingGraph.nodes:\n",
        "          popVariables.append(pulp.LpAffineExpression(zVarMap[i][d] * pop[idx]))\n",
        "          idx += 1\n",
        "      # Max Pop\n",
        "      prog += pulp.lpSum(popVariables) <= targetPop * (1 + ALPHA)\n",
        "      # Min Pop\n",
        "      prog += pulp.lpSum(popVariables) >= targetPop * (1 - ALPHA)\n",
        "\n",
        "    # Each Partition Connected\n",
        "    for d in range(NUM_DISTRICTS):\n",
        "      for i in remainingGraph.nodes:\n",
        "          sumParts = []\n",
        "          jidx = 0\n",
        "          for j in remainingGraph.nodes:\n",
        "              if i == jidx: break\n",
        "              if remainingGraph.has_edge(i, jidx):\n",
        "                  sumParts.append(remainingGraph[i][jidx]['weight'] * zVarMap[j][d])\n",
        "              jidx += 1\n",
        "          totalLH = pulp.LpAffineExpression(zVarMap[j][d] * pulp.lpSum(sumParts))\n",
        "          prog += pulp.LpConstraint(totalLH, pulp.LpConstraintGE, 0)\n",
        "\n",
        "    # Define Minimization Target\n",
        "    # Edgeweights\n",
        "    edgeWeightVars = []\n",
        "    for i in range(len(edgeVars)):\n",
        "        edgeWeightVars.append(pulp.LpAffineExpression(edgeVars[i] * weights[i]))\n",
        "    prog += pulp.LpAffineExpression(pulp.lpSum(edgeWeightVars), name=\"Z\")\n",
        "\n",
        "    print(\"Sending to solver...\")\n",
        "    Solver_name = 'PULP_CBC_CMD'\n",
        "    solver = pulp.getSolver(Solver_name, threads=12)\n",
        "    soln = prog.solve(solver)\n",
        "\n",
        "    print(soln)\n",
        "\n",
        "    toReturn = {}\n",
        "\n",
        "    districtPop = 0\n",
        "    print(xVars)\n",
        "    for i in range(len(xVars)):\n",
        "        if(xVars[i].value() == 1):\n",
        "            districtPop += pop[i]\n",
        "            toReturn[xVars[i].name] = xVars[i].value()\n",
        "            print(xVars[i].name, xVars[i].value())\n",
        "    if(districtPop >= targetPop * (1 + ALPHA) or districtPop <= targetPop * (1-ALPHA)):\n",
        "        raise ValueError(\"District Generated not of Proper Population\")\n",
        "    return toReturn\n",
        "\n",
        "\n",
        "remainingGraph = stateGraph.copy()\n",
        "districts = []\n",
        "while len(districts) < NUM_DISTRICTS - 1:\n",
        "    cutResult = CutPartition(remainingGraph)\n",
        "    newDistrict = []\n",
        "    for d in cutResult.keys():\n",
        "        # Gets rid of the x\n",
        "        # print(d)\n",
        "        newDistrict.append(d[1:])\n",
        "    # Appends the new district to our list of districts\n",
        "    districts.append(newDistrict)\n",
        "    oldSize = remainingGraph.order()\n",
        "    # Removes those nodes from the district\n",
        "    remainingGraph.remove_nodes_from(newDistrict)\n",
        "    newSize = remainingGraph.order()\n",
        "    # Verify that all of the nodes were removed\n",
        "    if(newSize != oldSize - len(newDistrict)):\n",
        "        print(remainingGraph.nodes)\n",
        "        print(newDistrict)\n",
        "        raise(ValueError(\"Districts were not removed appropriately\"))\n",
        "    # print(newDistrict)\n",
        "newDistrict = []\n",
        "for d in remainingGraph.nodes:\n",
        "    # Gets rid of the x\n",
        "    newDistrict.append(d)\n",
        "districts.append(newDistrict)\n",
        "\n",
        "#Confirm total size is appropriate\n",
        "totalCountiesinDistricts = 0\n",
        "for d in districts:\n",
        "    totalCountiesinDistricts += len(d)\n",
        "if(totalCountiesinDistricts != len(countyNames)):\n",
        "    raise(ValueError(\"Number of districts in plan does not match number of districts.\"))\n",
        "\n",
        "# Save the captured output to a text file\n",
        "with open('txt_outputs/' + fileName + '.txt', 'w') as file:\n",
        "    file.write(cap.stdout)"
      ]
    },
    {
      "cell_type": "code",
      "execution_count": null,
      "metadata": {
        "id": "c5z9w0Gd-_z0"
      },
      "outputs": [],
      "source": [
        "import csv\n",
        "\n",
        "file = open(\"district_outputs\" + fileName + '.csv', 'w')\n",
        "w = csv.writer(file)\n",
        "w.writerow([\"district\", \"precinct\"])\n",
        "for i in range(len(districts)):\n",
        "    for j in range(len(districts[i])):\n",
        "        w.writerow([i + 1, districts[i][j]])\n",
        "file.close()"
      ]
    },
    {
      "cell_type": "code",
      "execution_count": null,
      "metadata": {
        "id": "1XqMh_12-_z0"
      },
      "outputs": [],
      "source": []
    }
  ],
  "metadata": {
    "kernelspec": {
      "display_name": "Python 3",
      "language": "python",
      "name": "python3"
    },
    "language_info": {
      "codemirror_mode": {
        "name": "ipython",
        "version": 3
      },
      "file_extension": ".py",
      "mimetype": "text/x-python",
      "name": "python",
      "nbconvert_exporter": "python",
      "pygments_lexer": "ipython3",
      "version": "3.11.1"
    },
    "colab": {
      "provenance": []
    }
  },
  "nbformat": 4,
  "nbformat_minor": 0
}