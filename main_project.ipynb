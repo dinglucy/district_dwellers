{
 "cells": [
  {
   "cell_type": "markdown",
   "metadata": {},
   "source": [
    "Installing necessary prereqs: [NetworkX](https://networkx.org/documentation/stable/reference/index.html) for graphing, [PuLP](https://coin-or.github.io/pulp/main/index.html) for linear programming."
   ]
  },
  {
   "cell_type": "code",
   "execution_count": 1,
   "metadata": {},
   "outputs": [
    {
     "name": "stdout",
     "output_type": "stream",
     "text": [
      "Requirement already satisfied: networkx in /Library/Frameworks/Python.framework/Versions/3.11/lib/python3.11/site-packages (3.0)\n",
      "Requirement already satisfied: pulp in /Library/Frameworks/Python.framework/Versions/3.11/lib/python3.11/site-packages (2.8.0)\n",
      "Note: you may need to restart the kernel to use updated packages.\n"
     ]
    }
   ],
   "source": [
    "%pip install networkx pulp"
   ]
  },
  {
   "cell_type": "code",
   "execution_count": null,
   "metadata": {},
   "outputs": [],
   "source": [
    "\n",
    "import json\n",
    "import networkx as nx\n",
    "\n",
    "file = open(\"map_pa.json\")\n",
    "data = json.load(file)\n",
    "\n",
    "# adjacencies = data[\"adj\"]\n",
    "# # TODO: Shits the bed if there's anything other than letters and _\n",
    "# countyNames = data[\"GEOID\"]\n",
    "# pop = data[\"pop\"]\n",
    "\n",
    "adjacencies = []\n",
    "countyNames = []\n",
    "pop = []\n",
    "weights = []\n",
    "for countyInfo in data:\n",
    "    countyNames.append(countyInfo[\"GEOID\"])\n",
    "    adjacencies.append(countyInfo[\"adj\"])\n",
    "    pop.append(countyInfo[\"pop\"])\n",
    "\n",
    "\n",
    "# Number of districts\n",
    "NUM_DISTRICTS = 5\n",
    "\n",
    "# Population Tolerance\n",
    "ALPHA = .05"
   ]
  },
  {
   "cell_type": "code",
   "execution_count": null,
   "metadata": {},
   "outputs": [],
   "source": [
    "from random import Random\n",
    "\n",
    "stateGraph = nx.Graph()\n",
    "\n",
    "r =  Random(51535162)\n",
    "totalPop = 0\n",
    "# Add the nodes as necessary\n",
    "\n",
    "for i in range(len(adjacencies)):\n",
    "    # Adds node for each set of adjacencies\n",
    "    totalPop += pop[i]\n",
    "    # Adds necessary edges; double-adding doesn't matter\n",
    "    try:\n",
    "        for j in adjacencies[i]:\n",
    "            # Add edge with uniformly random weight 0, 10\n",
    "            stateGraph.add_edge(countyNames[i], countyNames[j], weight=r.uniform(1, 10))\n",
    "    except:\n",
    "            stateGraph.add_edge(countyNames[i], countyNames[adjacencies[i]], weight=r.uniform(1, 10))\n",
    "\n",
    "\n",
    "# nx.draw(stateGraph)"
   ]
  },
  {
   "cell_type": "code",
   "execution_count": null,
   "metadata": {},
   "outputs": [],
   "source": [
    "# Population per district\n",
    "targetPop = totalPop / NUM_DISTRICTS\n",
    "\n",
    "# Binary indicators, defined as 1 if in node in same partitition as \n",
    "# source S or 0 in same as sink O. Initializes to 0.\n",
    "V = [0 for i in range(stateGraph.order())]\n",
    "\n",
    "# \n",
    "Y = [[0 for i in range(stateGraph.order())] for j in range(stateGraph.order())]\n"
   ]
  },
  {
   "cell_type": "code",
   "execution_count": null,
   "metadata": {},
   "outputs": [
    {
     "name": "stdout",
     "output_type": "stream",
     "text": [
      "Sending to solver...\n"
     ]
    },
    {
     "ename": "KeyboardInterrupt",
     "evalue": "",
     "output_type": "error",
     "traceback": [
      "\u001b[0;31m---------------------------------------------------------------------------\u001b[0m",
      "\u001b[0;31mKeyboardInterrupt\u001b[0m                         Traceback (most recent call last)",
      "Cell \u001b[0;32mIn[26], line 75\u001b[0m\n\u001b[1;32m     73\u001b[0m districts \u001b[38;5;241m=\u001b[39m []\n\u001b[1;32m     74\u001b[0m \u001b[38;5;28;01mwhile\u001b[39;00m \u001b[38;5;28mlen\u001b[39m(districts) \u001b[38;5;241m<\u001b[39m NUM_DISTRICTS \u001b[38;5;241m-\u001b[39m \u001b[38;5;241m1\u001b[39m:\n\u001b[0;32m---> 75\u001b[0m     cutResult \u001b[38;5;241m=\u001b[39m \u001b[43mCutPartition\u001b[49m\u001b[43m(\u001b[49m\u001b[43mremainingGraph\u001b[49m\u001b[43m)\u001b[49m\n\u001b[1;32m     76\u001b[0m     newDistrict \u001b[38;5;241m=\u001b[39m []\n\u001b[1;32m     77\u001b[0m     \u001b[38;5;28;01mfor\u001b[39;00m d \u001b[38;5;129;01min\u001b[39;00m cutResult\u001b[38;5;241m.\u001b[39mkeys():\n\u001b[1;32m     78\u001b[0m         \u001b[38;5;66;03m# Gets rid of the x\u001b[39;00m\n\u001b[1;32m     79\u001b[0m         \u001b[38;5;66;03m# print(d)\u001b[39;00m\n",
      "Cell \u001b[0;32mIn[26], line 55\u001b[0m, in \u001b[0;36mCutPartition\u001b[0;34m(remainingGraph)\u001b[0m\n\u001b[1;32m     53\u001b[0m Solver_name \u001b[38;5;241m=\u001b[39m \u001b[38;5;124m'\u001b[39m\u001b[38;5;124mPULP_CBC_CMD\u001b[39m\u001b[38;5;124m'\u001b[39m\n\u001b[1;32m     54\u001b[0m solver \u001b[38;5;241m=\u001b[39m pulp\u001b[38;5;241m.\u001b[39mgetSolver(Solver_name, threads\u001b[38;5;241m=\u001b[39m\u001b[38;5;241m6\u001b[39m)\n\u001b[0;32m---> 55\u001b[0m soln \u001b[38;5;241m=\u001b[39m \u001b[43mprog\u001b[49m\u001b[38;5;241;43m.\u001b[39;49m\u001b[43msolve\u001b[49m\u001b[43m(\u001b[49m\u001b[43msolver\u001b[49m\u001b[43m)\u001b[49m\n\u001b[1;32m     57\u001b[0m \u001b[38;5;28mprint\u001b[39m(soln)\n\u001b[1;32m     59\u001b[0m toReturn \u001b[38;5;241m=\u001b[39m {}\n",
      "File \u001b[0;32m/Library/Frameworks/Python.framework/Versions/3.11/lib/python3.11/site-packages/pulp/pulp.py:1883\u001b[0m, in \u001b[0;36mLpProblem.solve\u001b[0;34m(self, solver, **kwargs)\u001b[0m\n\u001b[1;32m   1881\u001b[0m \u001b[38;5;66;03m# time it\u001b[39;00m\n\u001b[1;32m   1882\u001b[0m \u001b[38;5;28mself\u001b[39m\u001b[38;5;241m.\u001b[39mstartClock()\n\u001b[0;32m-> 1883\u001b[0m status \u001b[38;5;241m=\u001b[39m \u001b[43msolver\u001b[49m\u001b[38;5;241;43m.\u001b[39;49m\u001b[43mactualSolve\u001b[49m\u001b[43m(\u001b[49m\u001b[38;5;28;43mself\u001b[39;49m\u001b[43m,\u001b[49m\u001b[43m \u001b[49m\u001b[38;5;241;43m*\u001b[39;49m\u001b[38;5;241;43m*\u001b[39;49m\u001b[43mkwargs\u001b[49m\u001b[43m)\u001b[49m\n\u001b[1;32m   1884\u001b[0m \u001b[38;5;28mself\u001b[39m\u001b[38;5;241m.\u001b[39mstopClock()\n\u001b[1;32m   1885\u001b[0m \u001b[38;5;28mself\u001b[39m\u001b[38;5;241m.\u001b[39mrestoreObjective(wasNone, dummyVar)\n",
      "File \u001b[0;32m/Library/Frameworks/Python.framework/Versions/3.11/lib/python3.11/site-packages/pulp/apis/coin_api.py:112\u001b[0m, in \u001b[0;36mCOIN_CMD.actualSolve\u001b[0;34m(self, lp, **kwargs)\u001b[0m\n\u001b[1;32m    110\u001b[0m \u001b[38;5;28;01mdef\u001b[39;00m \u001b[38;5;21mactualSolve\u001b[39m(\u001b[38;5;28mself\u001b[39m, lp, \u001b[38;5;241m*\u001b[39m\u001b[38;5;241m*\u001b[39mkwargs):\n\u001b[1;32m    111\u001b[0m \u001b[38;5;250m    \u001b[39m\u001b[38;5;124;03m\"\"\"Solve a well formulated lp problem\"\"\"\u001b[39;00m\n\u001b[0;32m--> 112\u001b[0m     \u001b[38;5;28;01mreturn\u001b[39;00m \u001b[38;5;28;43mself\u001b[39;49m\u001b[38;5;241;43m.\u001b[39;49m\u001b[43msolve_CBC\u001b[49m\u001b[43m(\u001b[49m\u001b[43mlp\u001b[49m\u001b[43m,\u001b[49m\u001b[43m \u001b[49m\u001b[38;5;241;43m*\u001b[39;49m\u001b[38;5;241;43m*\u001b[39;49m\u001b[43mkwargs\u001b[49m\u001b[43m)\u001b[49m\n",
      "File \u001b[0;32m/Library/Frameworks/Python.framework/Versions/3.11/lib/python3.11/site-packages/pulp/apis/coin_api.py:178\u001b[0m, in \u001b[0;36mCOIN_CMD.solve_CBC\u001b[0;34m(self, lp, use_mps)\u001b[0m\n\u001b[1;32m    176\u001b[0m \u001b[38;5;28;01melse\u001b[39;00m:\n\u001b[1;32m    177\u001b[0m     cbc \u001b[38;5;241m=\u001b[39m subprocess\u001b[38;5;241m.\u001b[39mPopen(args, stdout\u001b[38;5;241m=\u001b[39mpipe, stderr\u001b[38;5;241m=\u001b[39mpipe, stdin\u001b[38;5;241m=\u001b[39mdevnull)\n\u001b[0;32m--> 178\u001b[0m \u001b[38;5;28;01mif\u001b[39;00m \u001b[43mcbc\u001b[49m\u001b[38;5;241;43m.\u001b[39;49m\u001b[43mwait\u001b[49m\u001b[43m(\u001b[49m\u001b[43m)\u001b[49m \u001b[38;5;241m!=\u001b[39m \u001b[38;5;241m0\u001b[39m:\n\u001b[1;32m    179\u001b[0m     \u001b[38;5;28;01mif\u001b[39;00m pipe:\n\u001b[1;32m    180\u001b[0m         pipe\u001b[38;5;241m.\u001b[39mclose()\n",
      "File \u001b[0;32m/Library/Frameworks/Python.framework/Versions/3.11/lib/python3.11/subprocess.py:1262\u001b[0m, in \u001b[0;36mPopen.wait\u001b[0;34m(self, timeout)\u001b[0m\n\u001b[1;32m   1260\u001b[0m     endtime \u001b[38;5;241m=\u001b[39m _time() \u001b[38;5;241m+\u001b[39m timeout\n\u001b[1;32m   1261\u001b[0m \u001b[38;5;28;01mtry\u001b[39;00m:\n\u001b[0;32m-> 1262\u001b[0m     \u001b[38;5;28;01mreturn\u001b[39;00m \u001b[38;5;28;43mself\u001b[39;49m\u001b[38;5;241;43m.\u001b[39;49m\u001b[43m_wait\u001b[49m\u001b[43m(\u001b[49m\u001b[43mtimeout\u001b[49m\u001b[38;5;241;43m=\u001b[39;49m\u001b[43mtimeout\u001b[49m\u001b[43m)\u001b[49m\n\u001b[1;32m   1263\u001b[0m \u001b[38;5;28;01mexcept\u001b[39;00m \u001b[38;5;167;01mKeyboardInterrupt\u001b[39;00m:\n\u001b[1;32m   1264\u001b[0m     \u001b[38;5;66;03m# https://bugs.python.org/issue25942\u001b[39;00m\n\u001b[1;32m   1265\u001b[0m     \u001b[38;5;66;03m# The first keyboard interrupt waits briefly for the child to\u001b[39;00m\n\u001b[1;32m   1266\u001b[0m     \u001b[38;5;66;03m# exit under the common assumption that it also received the ^C\u001b[39;00m\n\u001b[1;32m   1267\u001b[0m     \u001b[38;5;66;03m# generated SIGINT and will exit rapidly.\u001b[39;00m\n\u001b[1;32m   1268\u001b[0m     \u001b[38;5;28;01mif\u001b[39;00m timeout \u001b[38;5;129;01mis\u001b[39;00m \u001b[38;5;129;01mnot\u001b[39;00m \u001b[38;5;28;01mNone\u001b[39;00m:\n",
      "File \u001b[0;32m/Library/Frameworks/Python.framework/Versions/3.11/lib/python3.11/subprocess.py:1997\u001b[0m, in \u001b[0;36mPopen._wait\u001b[0;34m(self, timeout)\u001b[0m\n\u001b[1;32m   1995\u001b[0m \u001b[38;5;28;01mif\u001b[39;00m \u001b[38;5;28mself\u001b[39m\u001b[38;5;241m.\u001b[39mreturncode \u001b[38;5;129;01mis\u001b[39;00m \u001b[38;5;129;01mnot\u001b[39;00m \u001b[38;5;28;01mNone\u001b[39;00m:\n\u001b[1;32m   1996\u001b[0m     \u001b[38;5;28;01mbreak\u001b[39;00m  \u001b[38;5;66;03m# Another thread waited.\u001b[39;00m\n\u001b[0;32m-> 1997\u001b[0m (pid, sts) \u001b[38;5;241m=\u001b[39m \u001b[38;5;28;43mself\u001b[39;49m\u001b[38;5;241;43m.\u001b[39;49m\u001b[43m_try_wait\u001b[49m\u001b[43m(\u001b[49m\u001b[38;5;241;43m0\u001b[39;49m\u001b[43m)\u001b[49m\n\u001b[1;32m   1998\u001b[0m \u001b[38;5;66;03m# Check the pid and loop as waitpid has been known to\u001b[39;00m\n\u001b[1;32m   1999\u001b[0m \u001b[38;5;66;03m# return 0 even without WNOHANG in odd situations.\u001b[39;00m\n\u001b[1;32m   2000\u001b[0m \u001b[38;5;66;03m# http://bugs.python.org/issue14396.\u001b[39;00m\n\u001b[1;32m   2001\u001b[0m \u001b[38;5;28;01mif\u001b[39;00m pid \u001b[38;5;241m==\u001b[39m \u001b[38;5;28mself\u001b[39m\u001b[38;5;241m.\u001b[39mpid:\n",
      "File \u001b[0;32m/Library/Frameworks/Python.framework/Versions/3.11/lib/python3.11/subprocess.py:1955\u001b[0m, in \u001b[0;36mPopen._try_wait\u001b[0;34m(self, wait_flags)\u001b[0m\n\u001b[1;32m   1953\u001b[0m \u001b[38;5;250m\u001b[39m\u001b[38;5;124;03m\"\"\"All callers to this function MUST hold self._waitpid_lock.\"\"\"\u001b[39;00m\n\u001b[1;32m   1954\u001b[0m \u001b[38;5;28;01mtry\u001b[39;00m:\n\u001b[0;32m-> 1955\u001b[0m     (pid, sts) \u001b[38;5;241m=\u001b[39m os\u001b[38;5;241m.\u001b[39mwaitpid(\u001b[38;5;28mself\u001b[39m\u001b[38;5;241m.\u001b[39mpid, wait_flags)\n\u001b[1;32m   1956\u001b[0m \u001b[38;5;28;01mexcept\u001b[39;00m \u001b[38;5;167;01mChildProcessError\u001b[39;00m:\n\u001b[1;32m   1957\u001b[0m     \u001b[38;5;66;03m# This happens if SIGCLD is set to be ignored or waiting\u001b[39;00m\n\u001b[1;32m   1958\u001b[0m     \u001b[38;5;66;03m# for child processes has otherwise been disabled for our\u001b[39;00m\n\u001b[1;32m   1959\u001b[0m     \u001b[38;5;66;03m# process.  This child is dead, we can't get the status.\u001b[39;00m\n\u001b[1;32m   1960\u001b[0m     pid \u001b[38;5;241m=\u001b[39m \u001b[38;5;28mself\u001b[39m\u001b[38;5;241m.\u001b[39mpid\n",
      "\u001b[0;31mKeyboardInterrupt\u001b[0m: "
     ]
    }
   ],
   "source": [
    "import pulp \n",
    "\n",
    "def CutPartition(remainingGraph):\n",
    "    prog = pulp.LpProblem(\"CutPartition\", pulp.LpMinimize)\n",
    "\n",
    "    # Defining Partition Binary\n",
    "    xVars = []\n",
    "    xVarMap = {}\n",
    "    for n in remainingGraph.nodes:\n",
    "        var = pulp.LpVariable(\"x\" + str(n), cat=pulp.LpBinary)\n",
    "        xVarMap[n] = var\n",
    "        xVars.append(var)\n",
    "        prog += var\n",
    "    # Defining crossing binary\n",
    "    edgeVars = []\n",
    "    weights = []\n",
    "    for n, m in remainingGraph.edges:\n",
    "        edgeVal = pulp.LpAffineExpression([(xVarMap[n], 1), (xVarMap[m], -1)])\n",
    "        absEdgeVal = pulp.LpVariable('y' + str(n) + str(m), cat=pulp.LpBinary)\n",
    "\n",
    "        # Tries to fix absolute value prob\n",
    "        prog += absEdgeVal >= edgeVal\n",
    "        prog += absEdgeVal >= -edgeVal\n",
    "\n",
    "        edgeVars.append(absEdgeVal)\n",
    "        weights.append(remainingGraph[n][m]['weight'])\n",
    "    # Subset sum\n",
    "    popVariables = []\n",
    "    for i in range(len(xVars)):\n",
    "        popVariables.append(pulp.LpAffineExpression(xVars[i] * pop[i]))\n",
    "    # Max Pop\n",
    "    prog += pulp.lpSum(popVariables) <= targetPop * (1 + ALPHA)\n",
    "    # Min Pop\n",
    "    prog += pulp.lpSum(popVariables) >= targetPop * (1 - ALPHA)\n",
    "\n",
    "    # Source Partition Connected\n",
    "    for i in range(len(xVars)):\n",
    "        sumParts = []\n",
    "        for j in range(len(xVars)):\n",
    "            if i == j: break\n",
    "            if remainingGraph.has_edge(i, j):\n",
    "                sumParts.append(remainingGraph[i][j]['weight'] * xVars[j])\n",
    "        totalLH = pulp.LpAffineExpression(xVars[i] * pulp.lpSum(sumParts))\n",
    "        prog += pulp.LpConstraint(totalLH, pulp.LpConstraintGE, 0)\n",
    "    # Define Minimization Target\n",
    "    # Edgeweights\n",
    "    edgeWeightVars = []\n",
    "    for i in range(len(edgeVars)):\n",
    "        edgeWeightVars.append(pulp.LpAffineExpression(edgeVars[i] * weights[i]))\n",
    "    prog += pulp.LpAffineExpression(pulp.lpSum(edgeWeightVars), name=\"Z\")\n",
    "\n",
    "    print(\"Sending to solver...\")\n",
    "    Solver_name = 'PULP_CBC_CMD'\n",
    "    solver = pulp.getSolver(Solver_name, threads=6)\n",
    "    soln = prog.solve(solver)\n",
    "\n",
    "    print(soln)\n",
    "\n",
    "    toReturn = {}\n",
    "\n",
    "    districtPop = 0\n",
    "    for i in range(len(xVars)):\n",
    "        if(xVars[i].value() == 1):\n",
    "            districtPop += pop[i]\n",
    "            toReturn[xVars[i].name] = xVars[i].value()\n",
    "            print(xVars[i].name, xVars[i].value())\n",
    "    if(districtPop >= targetPop * (1 + ALPHA) or districtPop <= targetPop * (1-ALPHA)):\n",
    "        raise ValueError(\"District Generated not of Proper Population\") \n",
    "    return toReturn\n",
    "\n",
    "\n",
    "remainingGraph = stateGraph.copy()\n",
    "districts = []\n",
    "while len(districts) < NUM_DISTRICTS - 1:\n",
    "    cutResult = CutPartition(remainingGraph)\n",
    "    newDistrict = []\n",
    "    for d in cutResult.keys():\n",
    "        # Gets rid of the x\n",
    "        # print(d)\n",
    "        newDistrict.append(d[1:])\n",
    "    # Appends the new district to our list of districts\n",
    "    districts.append(newDistrict)\n",
    "    oldSize = remainingGraph.order()\n",
    "    # Removes those nodes from the district\n",
    "    remainingGraph.remove_nodes_from(newDistrict)\n",
    "    newSize = remainingGraph.order()\n",
    "    # Verify that all of the nodes were removed\n",
    "    if(newSize != oldSize - len(newDistrict)):\n",
    "        print(remainingGraph.nodes)\n",
    "        print(newDistrict)\n",
    "        raise(ValueError(\"Districts were not removed appropriately\"))\n",
    "    # print(newDistrict)\n",
    "newDistrict = []\n",
    "for d in remainingGraph.nodes:\n",
    "    # Gets rid of the x\n",
    "    newDistrict.append(d)\n",
    "districts.append(newDistrict)\n",
    "\n",
    "#Confirm total size is appropriate\n",
    "totalCountiesinDistricts = 0\n",
    "for d in districts:\n",
    "    totalCountiesinDistricts += len(d)\n",
    "if(totalCountiesinDistricts != len(countyNames)):\n",
    "    raise(ValueError(\"Number of districts in plan does not match number of districts.\"))"
   ]
  },
  {
   "cell_type": "code",
   "execution_count": null,
   "metadata": {},
   "outputs": [],
   "source": [
    "import csv\n",
    "\n",
    "file = open('ct_districts.csv', 'w')\n",
    "w = csv.writer(file)\n",
    "w.writerow([\"district\", \"precinct\"])\n",
    "for i in range(len(districts)):\n",
    "    for j in range(len(districts[i])):\n",
    "        w.writerow([i + 1, districts[i][j]])\n",
    "file.close()"
   ]
  },
  {
   "cell_type": "code",
   "execution_count": null,
   "metadata": {},
   "outputs": [],
   "source": []
  }
 ],
 "metadata": {
  "kernelspec": {
   "display_name": "Python 3",
   "language": "python",
   "name": "python3"
  },
  "language_info": {
   "codemirror_mode": {
    "name": "ipython",
    "version": 3
   },
   "file_extension": ".py",
   "mimetype": "text/x-python",
   "name": "python",
   "nbconvert_exporter": "python",
   "pygments_lexer": "ipython3",
   "version": "3.11.1"
  }
 },
 "nbformat": 4,
 "nbformat_minor": 2
}
